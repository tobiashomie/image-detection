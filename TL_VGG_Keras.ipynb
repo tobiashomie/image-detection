{
  "nbformat": 4,
  "nbformat_minor": 0,
  "metadata": {
    "colab": {
      "provenance": [],
      "authorship_tag": "ABX9TyNtNXw1oqA7C1BOJHcXpD+O",
      "include_colab_link": true
    },
    "kernelspec": {
      "name": "python3",
      "display_name": "Python 3"
    },
    "language_info": {
      "name": "python"
    }
  },
  "cells": [
    {
      "cell_type": "markdown",
      "metadata": {
        "id": "view-in-github",
        "colab_type": "text"
      },
      "source": [
        "<a href=\"https://colab.research.google.com/github/tobiashomie/image-detection/blob/main/TL_VGG_Keras.ipynb\" target=\"_parent\"><img src=\"https://colab.research.google.com/assets/colab-badge.svg\" alt=\"Open In Colab\"/></a>"
      ]
    },
    {
      "cell_type": "markdown",
      "source": [
        "# Install dependencies"
      ],
      "metadata": {
        "id": "c7G6E_5Ohix9"
      }
    },
    {
      "cell_type": "code",
      "execution_count": 4,
      "metadata": {
        "id": "Gwbpp8s0hUqC"
      },
      "outputs": [],
      "source": [
        "from keras.applications.vgg16 import VGG16\n",
        "from keras.applications.vgg16 import preprocess_input\n",
        "from keras.applications.vgg16 import decode_predictions\n",
        "from keras.preprocessing.image import img_to_array, load_img\n",
        "from keras.models import Model\n",
        "from pickle import dump\n",
        "from io import BytesIO\n",
        "import urllib"
      ]
    },
    {
      "cell_type": "markdown",
      "source": [
        "# Utility methods"
      ],
      "metadata": {
        "id": "OtFhbmADj1ds"
      }
    },
    {
      "cell_type": "code",
      "source": [
        "def load_img_from_url(URL, target_size):\n",
        "    with urllib.request.urlopen(URL) as url:\n",
        "        img = load_img(BytesIO(url.read()), target_size=target_size)\n",
        "\n",
        "    return img_to_array(img)"
      ],
      "metadata": {
        "id": "6B424_Lvj59g"
      },
      "execution_count": 5,
      "outputs": []
    },
    {
      "cell_type": "markdown",
      "source": [
        "# Constants"
      ],
      "metadata": {
        "id": "zOdO27K1kUow"
      }
    },
    {
      "cell_type": "code",
      "source": [
        "image_url = \"https://raw.githubusercontent.com/tobiashomie/image-detection/main/mug.png\"\n",
        "target_size = (224, 224)"
      ],
      "metadata": {
        "id": "zgN_D5WtkWmi"
      },
      "execution_count": 6,
      "outputs": []
    },
    {
      "cell_type": "markdown",
      "source": [
        "# Pre-trained model as a classifier"
      ],
      "metadata": {
        "id": "dSy-hvPrhhfP"
      }
    },
    {
      "cell_type": "markdown",
      "source": [
        "## Import image and preprocess"
      ],
      "metadata": {
        "id": "uaXUpwLajs5C"
      }
    },
    {
      "cell_type": "code",
      "source": [
        "# load an image from file\n",
        "image_raw = load_img_from_url(URL=image_url, target_size=target_size)\n",
        "# convert the image pixels to a numpy array\n",
        "image_array = img_to_array(image_raw)\n",
        "# reshape data for the model\n",
        "image_reshaped = image_array.reshape((1, image_array.shape[0], image_array.shape[1], image_array.shape[2]))\n",
        "# prepare the image for the VGG model\n",
        "image_for_model = preprocess_input(image_reshaped)"
      ],
      "metadata": {
        "id": "2ORgolVVjvQe"
      },
      "execution_count": 7,
      "outputs": []
    },
    {
      "cell_type": "markdown",
      "source": [
        "## Load VGG model and predict"
      ],
      "metadata": {
        "id": "Gh27AcMYlYe6"
      }
    },
    {
      "cell_type": "code",
      "source": [
        "model = VGG16()\n",
        "yhat = model.predict(image_for_model)\n",
        "labels = decode_predictions(yhat)\n",
        "print(\"labels: \", labels)\n",
        "print(\"prediction result: \", labels[0][0])"
      ],
      "metadata": {
        "colab": {
          "base_uri": "https://localhost:8080/"
        },
        "id": "Kqr-dJ-Lld7s",
        "outputId": "0b348a0d-48a6-45bb-d0d9-b5799dbb0d94"
      },
      "execution_count": 8,
      "outputs": [
        {
          "output_type": "stream",
          "name": "stdout",
          "text": [
            "Downloading data from https://storage.googleapis.com/tensorflow/keras-applications/vgg16/vgg16_weights_tf_dim_ordering_tf_kernels.h5\n",
            "553467096/553467096 [==============================] - 6s 0us/step\n",
            "1/1 [==============================] - 1s 921ms/step\n",
            "Downloading data from https://storage.googleapis.com/download.tensorflow.org/data/imagenet_class_index.json\n",
            "35363/35363 [==============================] - 0s 0us/step\n",
            "labels:  [[('n03063599', 'coffee_mug', 0.7043004), ('n03063689', 'coffeepot', 0.10230983), ('n07930864', 'cup', 0.075528815), ('n04398044', 'teapot', 0.03837995), ('n03950228', 'pitcher', 0.030945685)]]\n",
            "prediction result:  ('n03063599', 'coffee_mug', 0.7043004)\n"
          ]
        }
      ]
    },
    {
      "cell_type": "code",
      "source": [],
      "metadata": {
        "id": "PP8b5XBcjpzL"
      },
      "execution_count": null,
      "outputs": []
    }
  ]
}